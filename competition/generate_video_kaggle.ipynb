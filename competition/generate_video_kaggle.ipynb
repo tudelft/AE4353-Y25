{
 "cells": [
  {
   "cell_type": "code",
   "execution_count": null,
   "metadata": {
    "_cell_guid": "b1076dfc-b9ad-4769-8c92-a6c4dae69d19",
    "_uuid": "8f2839f25d086af736a60e9eeb907d3b93b6e0e5"
   },
   "outputs": [],
   "source": [
    "# This Python 3 environment comes with many helpful analytics libraries installed\n",
    "# It is defined by the kaggle/python Docker image: https://github.com/kaggle/docker-python\n",
    "# For example, here's several helpful packages to load\n",
    "\n",
    "import numpy as np # linear algebra\n",
    "import pandas as pd # data processing, CSV file I/O (e.g. pd.read_csv)\n",
    "\n",
    "# Input data files are available in the read-only \"../input/\" directory\n",
    "# For example, running this (by clicking run or pressing Shift+Enter) will list all files under the input directory\n",
    "\n",
    "import os\n",
    "for dirname, _, filenames in os.walk('/kaggle/input'):\n",
    "    for filename in filenames:\n",
    "        print(os.path.join(dirname, filename))\n",
    "\n",
    "# You can write up to 20GB to the current directory (/kaggle/working/) that gets preserved as output when you create a version using \"Save & Run All\" \n",
    "# You can also write temporary files to /kaggle/temp/, but they won't be saved outside of the current session"
   ]
  },
  {
   "cell_type": "code",
   "execution_count": null,
   "metadata": {},
   "outputs": [],
   "source": [
    "!pip install hdf5plugin opencv-python-headless moviepy tqdm"
   ]
  },
  {
   "cell_type": "markdown",
   "metadata": {},
   "source": [
    "After installing the `moviepy`, you need to restart the kernel for the video writer to work properly. You can restart by going to \"More settings\" (three dots button at the top right corner) and click \"Restart and Clear Cell Outputs\". After restarted, you do not need to install the packages again and can continue from this cell onwards."
   ]
  },
  {
   "cell_type": "code",
   "execution_count": null,
   "metadata": {},
   "outputs": [],
   "source": [
    "import h5py\n",
    "import hdf5plugin\n",
    "import matplotlib.pyplot as plt\n",
    "from moviepy.editor import ImageSequenceClip\n",
    "import cv2\n",
    "from pathlib import Path\n",
    "from tqdm import tqdm"
   ]
  },
  {
   "cell_type": "code",
   "execution_count": null,
   "metadata": {},
   "outputs": [],
   "source": [
    "def h5_to_video(h5, output_dir, fps):\n",
    "    output_dir.mkdir(parents=True, exist_ok=True)\n",
    "\n",
    "    # get images and targets\n",
    "    h5f = h5py.File(h5, \"r\")\n",
    "    images = h5f[\"images\"]\n",
    "    targets = [h5f[f\"targets/{i:05d}\"][()] for i in range(len(images))]\n",
    "\n",
    "    # draw targets on images\n",
    "    frames = []\n",
    "    for image, target in tqdm(zip(images, targets), total=len(images)):\n",
    "        image = image.transpose(1, 2, 0)\n",
    "        frame = image.copy()\n",
    "        for gate in target:\n",
    "            xy = gate.reshape(-1, 3)[..., :2] * image.shape[1::-1]\n",
    "            visibility = gate.reshape(-1, 3)[..., 2]\n",
    "            if np.all(visibility > 0):\n",
    "                cv2.polylines(frame, [xy.astype(int)], isClosed=True, color=(0, 255, 0), thickness=2)\n",
    "            else:\n",
    "                # Draw lines between visible corners\n",
    "                for i in range(len(xy) - 1):\n",
    "                    if visibility[i] > 0 and visibility[i + 1] > 0:\n",
    "                        cv2.line(frame, tuple(xy[i].astype(int)), tuple(xy[i + 1].astype(int)), color=(0, 255, 0), thickness=2)\n",
    "                # Draw line from the last corner to the first to form a loop if both are visible\n",
    "                if visibility[-1] > 0 and visibility[0] > 0:\n",
    "                    cv2.line(frame, tuple(xy[-1].astype(int)), tuple(xy[0].astype(int)), color=(0, 255, 0), thickness=2)\n",
    "        frames.append(frame)\n",
    "\n",
    "    h5f.close()\n",
    "\n",
    "    clip = ImageSequenceClip(frames, fps=fps)\n",
    "    clip.write_videofile(str(output_dir / f\"{h5.stem}.mp4\"), codec=\"libx264\")"
   ]
  },
  {
   "cell_type": "code",
   "execution_count": null,
   "metadata": {},
   "outputs": [],
   "source": [
    "h5_to_video(Path(\"/kaggle/input/mission-impassable/autonomous_flight-01a-ellipse.h5\"), Path('.'), 30)"
   ]
  }
 ],
 "metadata": {
  "kaggle": {
   "accelerator": "none",
   "dataSources": [
    {
     "databundleVersionId": 9635081,
     "sourceId": 85326,
     "sourceType": "competition"
    }
   ],
   "dockerImageVersionId": 30761,
   "isGpuEnabled": false,
   "isInternetEnabled": true,
   "language": "python",
   "sourceType": "notebook"
  },
  "kernelspec": {
   "display_name": "Python 3",
   "language": "python",
   "name": "python3"
  },
  "language_info": {
   "codemirror_mode": {
    "name": "ipython",
    "version": 3
   },
   "file_extension": ".py",
   "mimetype": "text/x-python",
   "name": "python",
   "nbconvert_exporter": "python",
   "pygments_lexer": "ipython3",
   "version": "3.10.14"
  }
 },
 "nbformat": 4,
 "nbformat_minor": 4
}
